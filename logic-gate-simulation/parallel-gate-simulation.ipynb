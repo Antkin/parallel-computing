{
  "nbformat": 4,
  "nbformat_minor": 0,
  "metadata": {
    "colab": {
      "name": "Lab1.ipynb",
      "provenance": [],
      "collapsed_sections": [
        "Ua8sdxNKKHER",
        "fRR5T2hzKQDU"
      ]
    },
    "kernelspec": {
      "name": "python3",
      "display_name": "Python 3"
    },
    "accelerator": "GPU"
  },
  "cells": [
    {
      "cell_type": "markdown",
      "metadata": {
        "id": "-NpKLwwUi58z"
      },
      "source": [
        "#Lab1-Part1: Sequential Code"
      ]
    },
    {
      "cell_type": "code",
      "metadata": {
        "id": "XWk9IJxXiy7T",
        "colab": {
          "base_uri": "https://localhost:8080/",
          "height": 35
        },
        "outputId": "6fde348b-8193-44cb-bda1-9cd0762f864d"
      },
      "source": [
        "%%writefile sequential_kernel.cu\n",
        "\n",
        "#include <math.h>\n",
        "#include <stdio.h>\n",
        "#include <stdlib.h>\n",
        "#include <time.h>\n",
        "\n",
        "int main(int argc, char *argv[]){\n",
        "    //Check that our input is correct\n",
        "    if(argc != 4){\n",
        "        printf(\"ERROR: The input should be of the following format.\\n\");\n",
        "        printf(\"./sequential <input_file_path> <input_file_length> <output_file_path> \\n\");\n",
        "        return -1;\n",
        "    }\n",
        "\n",
        "    int inputLength = atoi(argv[2]);\n",
        "\n",
        "    //Try and open the file to make sure it exists\n",
        "    FILE* fp1 = fopen(argv[1], \"r\");\n",
        "    if(fp1 == NULL){\n",
        "        printf(\"ERROR: File could not be found.\");\n",
        "        return -1;\n",
        "    }\n",
        "\n",
        "    //Seeing as the file exists we create a new file for the output\n",
        "    FILE* fp2 = fopen(argv[3], \"w+\");\n",
        "    if(fp2 == NULL){\n",
        "        printf(\"ERROR: New file could not be created.\");\n",
        "    }\n",
        "\n",
        "\n",
        "    //Setting up the gates outputs\n",
        "    //This array is basically the same as the output matrix in the pdf\n",
        "    //OR and NAND collumns\n",
        "    //Row 1 corresponds to A=B=0, Row 2 corresponds to A=0 B=1, Row 3 corresponds to A=1 B=0, Row 4 corresponds to A=B=1\n",
        "    //Collumns represent solutions for gatetypes based on A/B values\n",
        "    //Col1=AND, Col2=OR, Col3=NAND, Col4=NOR, Col5=XOR, Col6=XNOR\n",
        "    int output[4][6] = {{0,0,1,1,0,1},\n",
        "                        {0,1,1,0,1,0},\n",
        "                        {0,1,1,0,1,0},\n",
        "                        {1,1,0,0,0,1}};\n",
        "    int a = 0;\n",
        "    int b = 0;\n",
        "    int gateType = 0;\n",
        "    \n",
        "    //Lets record how long this takes\n",
        "    clock_t begin = clock();\n",
        "\n",
        "    for(int i = 0; i < inputLength; i++){\n",
        "        //Grab A,B, and gateType for every line\n",
        "        for(int j = 0; j < 6; j++){\n",
        "            if(j == 0) a = fgetc(fp1) - 48;\n",
        "            else if(j == 2) b = fgetc(fp1) - 48;\n",
        "            else if(j == 4)gateType = fgetc(fp1) - 48;\n",
        "            else fgetc(fp1);\n",
        "        }\n",
        "        //Based on A and B we find the corresponding gate in the outputMatrix and find the answer\n",
        "        if(a == 0 && b == 0){\n",
        "            fprintf(fp2, \"%d\\n\", output[0][gateType]);\n",
        "        }\n",
        "        if(a == 0 && b == 1){\n",
        "            fprintf(fp2, \"%d\\n\", output[1][gateType]);\n",
        "        }\n",
        "        if(a == 1 && b == 0){\n",
        "            fprintf(fp2, \"%d\\n\", output[2][gateType]);\n",
        "        }\n",
        "        if(a == 1 && b == 1){\n",
        "            fprintf(fp2, \"%d\\n\", output[3][gateType]);\n",
        "        }\n",
        "    }\n",
        "\n",
        "    clock_t end = clock();\n",
        "    double time_spent = (double)(end - begin) / CLOCKS_PER_SEC;\n",
        "\n",
        "    printf(\"Total time for logic gate reading was: %f seconds\", time_spent);\n",
        "\n",
        "    fclose(fp2);\n",
        "    fclose(fp1);\n",
        "    return 0;\n",
        "}"
      ],
      "execution_count": null,
      "outputs": [
        {
          "output_type": "stream",
          "text": [
            "Overwriting sequential_kernel.cu\n"
          ],
          "name": "stdout"
        }
      ]
    },
    {
      "cell_type": "code",
      "metadata": {
        "id": "zDoNRadnj3sQ",
        "colab": {
          "base_uri": "https://localhost:8080/",
          "height": 35
        },
        "outputId": "d4397811-b8c5-4ad0-fd63-cdfad8d354d2"
      },
      "source": [
        "!nvcc sequential_kernel.cu -o sequential\n",
        "!./sequential input_1000000.txt 1000000 output_1000000.txt"
      ],
      "execution_count": null,
      "outputs": [
        {
          "output_type": "stream",
          "text": [
            "Total time for logic gate reading was: 0.124884 seconds"
          ],
          "name": "stdout"
        }
      ]
    },
    {
      "cell_type": "markdown",
      "metadata": {
        "id": "Ua8sdxNKKHER"
      },
      "source": [
        "#Lab1-Part2: Explicit Memory Allocation"
      ]
    },
    {
      "cell_type": "code",
      "metadata": {
        "id": "I0oOLIBlKGL9",
        "colab": {
          "base_uri": "https://localhost:8080/",
          "height": 35
        },
        "outputId": "f4804304-2a74-4149-ee81-108bdd86ac25"
      },
      "source": [
        "%%writefile explicit_kernel.cu\n",
        "\n",
        "\n",
        "#include <math.h>\n",
        "#include <stdio.h>\n",
        "#include <stdlib.h>\n",
        "#include \"cuda_runtime.h\"\n",
        "#include \"device_launch_parameters.h\"\n",
        "#include <time.h>\n",
        "\n",
        "__global__ void gateAnalysis(int* arr_old, int* arr_new, int length, int COLS, int threadsPerBlock) {\n",
        "    //Setting up the gates outputs\n",
        "    //This array is basically the same as the output matrix in the pdf\n",
        "    //OR and NAND collumns\n",
        "    //Row 1 corresponds to A=B=0, Row 2 corresponds to A=0 B=1, Row 3 corresponds to A=1 B=0, Row 4 corresponds to A=B=1\n",
        "    //Collumns represent solutions for gatetypes based on A/B values\n",
        "    //Col1=AND, Col2=OR, Col3=NAND, Col4=NOR, Col5=XOR, Col6=XNOR\n",
        "    int output[4][6] = { {0,0,1,1,0,1},\n",
        "                        {0,1,1,0,1,0},\n",
        "                        {0,1,1,0,1,0},\n",
        "                        {1,1,0,0,0,1} };\n",
        "\n",
        "    int index = threadIdx.x + blockIdx.x * blockDim.x;\n",
        "    if(index < length){\n",
        "    //for (int i = index; i < length; i++) {\n",
        "        // array is flat now\n",
        "\n",
        "        int a = arr_old[index * COLS + 0];\n",
        "        int b = arr_old[index * COLS + 1];\n",
        "        int gateType = arr_old[index * COLS + 2];\n",
        "        if (a == 0 && b == 0) {\n",
        "            arr_new[index] = output[0][gateType];\n",
        "        }\n",
        "        if (a == 0 && b == 1) {\n",
        "            arr_new[index] = output[1][gateType];\n",
        "        }\n",
        "        if (a == 1 && b == 0) {\n",
        "            arr_new[index] = output[2][gateType];\n",
        "        }\n",
        "        if (a == 1 && b == 1) {\n",
        "            arr_new[index] = output[3][gateType];\n",
        "        }\n",
        "    }\n",
        "}\n",
        "int main(int argc, char* argv[]) {\n",
        "    //Check that our input is correct\n",
        "    if (argc != 4) {\n",
        "        printf(\"ERROR: The input should be of the following format.\\n\");\n",
        "        printf(\"./sequential <input_file_path> <input_file_length> <output_file_path> \\n\");\n",
        "        return -1;\n",
        "    }\n",
        "\n",
        "    int inputLength = atoi(argv[2]);\n",
        "\n",
        "    //Try and open the file to make sure it exists\n",
        "    FILE* fp1 = fopen(argv[1], \"r\");\n",
        "    if (fp1 == NULL) {\n",
        "        printf(\"ERROR: File could not be found.\");\n",
        "        return -1;\n",
        "    }\n",
        "\n",
        "    //Seeing as the file exists we create a new file for the output\n",
        "    FILE* fp2 = fopen(argv[3], \"w+\");\n",
        "    if (fp2 == NULL) {\n",
        "        printf(\"ERROR: New file could not be created.\");\n",
        "    }\n",
        "\n",
        "    int COLS = 3;\n",
        "    int THREADS = 6;\n",
        "    //Now that we've done all the checks we can move on\n",
        "    //Need to pass the GPU the data so we will make an array to hold our data\n",
        "    int a = 0;\n",
        "    int b = 0;\n",
        "    int gateType = 0;\n",
        "    int* inputMatrix = (int*)malloc(sizeof(int) * inputLength * COLS);\n",
        "    int* outputMatrix = (int*)malloc(sizeof(int) * inputLength);\n",
        "\n",
        "\n",
        "    for (int i = 0; i < inputLength; i++) {\n",
        "        for (int j = 0; j < 6; j++) {\n",
        "            if (j == 0) a = fgetc(fp1) - 48;\n",
        "            else if (j == 2) b = fgetc(fp1) - 48;\n",
        "            else if (j == 4)gateType = fgetc(fp1) - 48;\n",
        "            else fgetc(fp1);\n",
        "\n",
        "        }\n",
        "        // array is flat now\n",
        "        inputMatrix[i * COLS + 0] = a;\n",
        "        inputMatrix[i * COLS + 1] = b;\n",
        "        inputMatrix[i * COLS + 2] = gateType;\n",
        "    }\n",
        "\n",
        "    int* d_inputMatrix;\n",
        "    int inputSize = sizeof(int) * inputLength * COLS;\n",
        "\n",
        "    int* d_outputMatrix;\n",
        "    int outputSize = sizeof(int) * inputLength;\n",
        "    \n",
        "    //Allocate space for the input matrix and output matrix\n",
        "    cudaMalloc((void**)&d_inputMatrix, inputSize);\n",
        "    cudaMalloc((void**)&d_outputMatrix, outputSize);\n",
        "\n",
        "    //Transfer input matrix to gpu.\n",
        "    clock_t begin_data = clock();\n",
        "    cudaMemcpy(d_inputMatrix, inputMatrix, inputSize, cudaMemcpyHostToDevice);\n",
        "    clock_t end_data = clock();\n",
        "    double time_spent_data = (double)(end_data - begin_data) / CLOCKS_PER_SEC;\n",
        "\n",
        "    printf(\"Total time for data transfer was: %f seconds\\n\", time_spent_data);\n",
        "\n",
        "    clock_t begin = clock();\n",
        "\n",
        "    gateAnalysis << <1000, inputLength / 1000 >> > (d_inputMatrix, d_outputMatrix , inputLength, COLS, THREADS / 1000);\n",
        "    cudaDeviceSynchronize();\n",
        "\n",
        "    clock_t end = clock();\n",
        "    double time_spent = (double)(end - begin) / CLOCKS_PER_SEC;\n",
        "\n",
        "    cudaMemcpy(outputMatrix, d_outputMatrix, outputSize, cudaMemcpyDeviceToHost);\n",
        "\n",
        "    //print solution array to file\n",
        "    for (int row = 0; row < inputLength; row++) {\n",
        "        // array is flat now\n",
        "        fprintf(fp2, \"%d\\n\", outputMatrix[row]);\n",
        "    }\n",
        "    \n",
        "\n",
        "    printf(\"Total time for logic gate was: %f seconds\\n\", time_spent);\n",
        "\n",
        "    //free memory and close file pointers\n",
        "    free(inputMatrix);\n",
        "    free(outputMatrix);\n",
        "    cudaFree(d_inputMatrix);\n",
        "    cudaFree(d_outputMatrix);\n",
        "    fclose(fp2);\n",
        "    fclose(fp1);\n",
        "    return 0;\n",
        "}\n"
      ],
      "execution_count": null,
      "outputs": [
        {
          "output_type": "stream",
          "text": [
            "Overwriting explicit_kernel.cu\n"
          ],
          "name": "stdout"
        }
      ]
    },
    {
      "cell_type": "code",
      "metadata": {
        "id": "8xqDHogJNWoZ",
        "colab": {
          "base_uri": "https://localhost:8080/",
          "height": 52
        },
        "outputId": "ced4c63b-6d37-49bb-97b8-2416280d30e1"
      },
      "source": [
        "!nvcc explicit_kernel.cu -o parallel_explicit\n",
        "!./parallel_explicit input_1000000.txt 1000000 output_1000000.txt"
      ],
      "execution_count": null,
      "outputs": [
        {
          "output_type": "stream",
          "text": [
            "Total time for data transfer was: 0.002699 seconds\n",
            "Total time for logic gate was: 0.000346 seconds\n"
          ],
          "name": "stdout"
        }
      ]
    },
    {
      "cell_type": "markdown",
      "metadata": {
        "id": "cjSCNV0gY1P6"
      },
      "source": [
        "#Lab1-Part3: Unified Memory Allocation"
      ]
    },
    {
      "cell_type": "code",
      "metadata": {
        "id": "5uvweQPeY6gS",
        "colab": {
          "base_uri": "https://localhost:8080/",
          "height": 35
        },
        "outputId": "df2f6310-6bf8-4d6e-d720-af3d5aebd146"
      },
      "source": [
        "%%writefile unified_kernel.cu\n",
        "\n",
        "#include <math.h>\n",
        "#include <stdio.h>\n",
        "#include <stdlib.h>\n",
        "#include \"cuda_runtime.h\"\n",
        "#include \"device_launch_parameters.h\"\n",
        "#include <time.h>\n",
        "\n",
        "__global__ void gateAnalysis(int* arr_old, int* arr_new, int length, int COLS, int threadsPerBlock) {\n",
        "    //Setting up the gates outputs\n",
        "    //This array is basically the same as the output matrix in the pdf\n",
        "    //OR and NAND collumns\n",
        "    //Row 1 corresponds to A=B=0, Row 2 corresponds to A=0 B=1, Row 3 corresponds to A=1 B=0, Row 4 corresponds to A=B=1\n",
        "    //Collumns represent solutions for gatetypes based on A/B values\n",
        "    //Col1=AND, Col2=OR, Col3=NAND, Col4=NOR, Col5=XOR, Col6=XNOR\n",
        "    int output[4][6] = { {0,0,1,1,0,1},\n",
        "                        {0,1,1,0,1,0},\n",
        "                        {0,1,1,0,1,0},\n",
        "                        {1,1,0,0,0,1} };\n",
        "\n",
        "    int index = threadIdx.x + blockIdx.x * blockDim.x;\n",
        "    if (index < length) {\n",
        "        //for (int i = index; i < length; i++) {\n",
        "            // array is flat now\n",
        "\n",
        "        int a = arr_old[index * COLS + 0];\n",
        "        int b = arr_old[index * COLS + 1];\n",
        "        int gateType = arr_old[index * COLS + 2];\n",
        "        if (a == 0 && b == 0) {\n",
        "            arr_new[index] = output[0][gateType];\n",
        "        }\n",
        "        if (a == 0 && b == 1) {\n",
        "            arr_new[index] = output[1][gateType];\n",
        "        }\n",
        "        if (a == 1 && b == 0) {\n",
        "            arr_new[index] = output[2][gateType];\n",
        "        }\n",
        "        if (a == 1 && b == 1) {\n",
        "            arr_new[index] = output[3][gateType];\n",
        "        }\n",
        "    }\n",
        "}\n",
        "int main(int argc, char* argv[]) {\n",
        "    //Check that our input is correct\n",
        "    if (argc != 4) {\n",
        "        printf(\"ERROR: The input should be of the following format.\\n\");\n",
        "        printf(\"./sequential <input_file_path> <input_file_length> <output_file_path> \\n\");\n",
        "        return -1;\n",
        "    }\n",
        "\n",
        "    int inputLength = atoi(argv[2]);\n",
        "\n",
        "    //Try and open the file to make sure it exists\n",
        "    FILE* fp1 = fopen(argv[1], \"r\");\n",
        "    if (fp1 == NULL) {\n",
        "        printf(\"ERROR: File could not be found.\");\n",
        "        return -1;\n",
        "    }\n",
        "\n",
        "    //Seeing as the file exists we create a new file for the output\n",
        "    FILE* fp2 = fopen(argv[3], \"w+\");\n",
        "    if (fp2 == NULL) {\n",
        "        printf(\"ERROR: New file could not be created.\");\n",
        "    }\n",
        "\n",
        "    int COLS = 3;\n",
        "    int THREADS = 6;\n",
        "    //Now that we've done all the checks we can move on\n",
        "    //Need to pass the GPU the data so we will make an array to hold our data\n",
        "    int a = 0;\n",
        "    int b = 0;\n",
        "    int gateType = 0;\n",
        "\n",
        "    int* inputMatrix;\n",
        "    int inputSize = sizeof(int) * inputLength * COLS;\n",
        "\n",
        "    int* outputMatrix;\n",
        "    int outputSize = sizeof(int) * inputLength;\n",
        "\n",
        "    //Allocate space for the input matrix and output matrix\n",
        "    cudaMallocManaged((void**)&inputMatrix, inputSize);\n",
        "    cudaMallocManaged((void**)&outputMatrix, outputSize);\n",
        "\n",
        "    for (int i = 0; i < inputLength; i++) {\n",
        "        for (int j = 0; j < 6; j++) {\n",
        "            if (j == 0) a = fgetc(fp1) - 48;\n",
        "            else if (j == 2) b = fgetc(fp1) - 48;\n",
        "            else if (j == 4)gateType = fgetc(fp1) - 48;\n",
        "            else fgetc(fp1);\n",
        "\n",
        "        }\n",
        "        // array is flat now\n",
        "        inputMatrix[i * COLS + 0] = a;\n",
        "        inputMatrix[i * COLS + 1] = b;\n",
        "        inputMatrix[i * COLS + 2] = gateType;\n",
        "    }\n",
        "\n",
        "\n",
        "    //Now run parallelization and time it\n",
        "    clock_t begin = clock();\n",
        "\n",
        "    gateAnalysis << <1000, inputLength / 1000 >> > (inputMatrix, outputMatrix, inputLength, COLS, THREADS / 1000);\n",
        "    cudaDeviceSynchronize();\n",
        "\n",
        "    clock_t end = clock();\n",
        "    double time_spent = (double)(end - begin) / CLOCKS_PER_SEC;\n",
        "\n",
        "    //print solution array to file\n",
        "    for (int row = 0; row < inputLength; row++) {\n",
        "        // array is flat now\n",
        "        fprintf(fp2, \"%d\\n\", outputMatrix[row]);\n",
        "    }\n",
        "    \n",
        "    printf(\"Total time was: %f seconds\\n\", time_spent);\n",
        "\n",
        "    //free memory and close file pointers\n",
        "    cudaFree(inputMatrix);\n",
        "    cudaFree(outputMatrix);\n",
        "    fclose(fp2);\n",
        "    fclose(fp1);\n",
        "    return 0;\n",
        "}\n"
      ],
      "execution_count": null,
      "outputs": [
        {
          "output_type": "stream",
          "text": [
            "Overwriting unified_kernel.cu\n"
          ],
          "name": "stdout"
        }
      ]
    },
    {
      "cell_type": "code",
      "metadata": {
        "id": "3fR-69owZXR9",
        "colab": {
          "base_uri": "https://localhost:8080/",
          "height": 35
        },
        "outputId": "49428255-460a-4d65-e59b-1fa7cd263036"
      },
      "source": [
        "!nvcc unified_kernel.cu -o parallel_unified\n",
        "!./parallel_unified input_1000000.txt 1000000 output_1000000.txt"
      ],
      "execution_count": null,
      "outputs": [
        {
          "output_type": "stream",
          "text": [
            "Total time was: 0.003800 seconds\n"
          ],
          "name": "stdout"
        }
      ]
    },
    {
      "cell_type": "markdown",
      "metadata": {
        "id": "fRR5T2hzKQDU"
      },
      "source": [
        "#Comparison"
      ]
    },
    {
      "cell_type": "code",
      "metadata": {
        "id": "wBTvKNKBDlat",
        "colab": {
          "base_uri": "https://localhost:8080/",
          "height": 35
        },
        "outputId": "1b8c74b5-c51c-4082-d9d7-9775f3bae1d2"
      },
      "source": [
        "!nvcc comparison.cu -o comparison\n",
        "!./comparison output_100000.txt sol_100000.txt"
      ],
      "execution_count": null,
      "outputs": [
        {
          "output_type": "stream",
          "text": [
            "Total Errors : 0\t"
          ],
          "name": "stdout"
        }
      ]
    },
    {
      "cell_type": "code",
      "metadata": {
        "id": "yA2W9GtYDMlm",
        "colab": {
          "base_uri": "https://localhost:8080/",
          "height": 35
        },
        "outputId": "18e9066a-883f-4853-e2e9-d8d718c1bd6c"
      },
      "source": [
        "%%writefile comparison.cu\n",
        "#include <stdio.h>\n",
        "#include <stdlib.h>\n",
        "\n",
        "\n",
        "void compareFiles(char *file_name1, char *file_name2) \n",
        "{ \n",
        "//get from https://www.tutorialspoint.com/c-program-to-compare-two-files-and-report-mismatches\n",
        "FILE* fp1 = fopen(file_name1, \"r\");\n",
        "FILE* fp2 = fopen(file_name2, \"r\");\n",
        "    // fetching character of two file \n",
        "    // in two variable ch1 and ch2 \n",
        "    char ch1 = getc(fp1); \n",
        "    char ch2 = getc(fp2); \n",
        "  \n",
        "    // error keeps track of number of errors \n",
        "    // pos keeps track of position of errors \n",
        "    // line keeps track of error line \n",
        "    int error = 0, pos = 0, line = 1; \n",
        "  \n",
        "    // iterate loop till end of file \n",
        "    while (ch1 != EOF && ch2 != EOF) \n",
        "    { \n",
        "        pos++; \n",
        "  \n",
        "        // if both variable encounters new \n",
        "        // line then line variable is incremented \n",
        "        // and pos variable is set to 0 \n",
        "        if (ch1 == '\\n' && ch2 == '\\n') \n",
        "        { \n",
        "            line++; \n",
        "            pos = 0; \n",
        "        } \n",
        "  \n",
        "        // if fetched data is not equal then \n",
        "        // error is incremented \n",
        "        if (ch1 != ch2) \n",
        "        { \n",
        "            error++; \n",
        "            printf(\"Line Number : %d \\tError\"\n",
        "               \" Position : %d \\n\", line, pos); \n",
        "        } \n",
        "  \n",
        "        // fetching character until end of file \n",
        "        ch1 = getc(fp1); \n",
        "        ch2 = getc(fp2); \n",
        "    } \n",
        "  \n",
        "    printf(\"Total Errors : %d\\t\", error); \n",
        "} \n",
        "\n",
        "int main(int argc, char *argv[]){\n",
        "\n",
        "    if( argc < 3) {\n",
        "      printf(\"Require two files\\n\");\n",
        "      exit(1);\n",
        "      \n",
        "   }\n",
        "compareFiles(argv[1], argv[2]);\n",
        "}"
      ],
      "execution_count": null,
      "outputs": [
        {
          "output_type": "stream",
          "text": [
            "Writing comparison.cu\n"
          ],
          "name": "stdout"
        }
      ]
    }
  ]
}