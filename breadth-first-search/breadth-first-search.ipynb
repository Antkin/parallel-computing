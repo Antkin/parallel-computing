{
  "nbformat": 4,
  "nbformat_minor": 0,
  "metadata": {
    "colab": {
      "name": "Lab3.ipynb",
      "provenance": [],
      "collapsed_sections": [
        "E9F564gdpeDl",
        "orSzU_3m5Gud",
        "mqvHdxfY5MQ3"
      ]
    },
    "kernelspec": {
      "name": "python3",
      "display_name": "Python 3"
    },
    "accelerator": "GPU"
  },
  "cells": [
    {
      "cell_type": "markdown",
      "metadata": {
        "id": "E9F564gdpeDl"
      },
      "source": [
        "#Lab3-Part1: Sequential"
      ]
    },
    {
      "cell_type": "code",
      "metadata": {
        "id": "uZuTqmtne4T1",
        "colab": {
          "base_uri": "https://localhost:8080/"
        },
        "outputId": "d83a6198-11df-4f22-dc7a-4005765925b5"
      },
      "source": [
        "%%writefile sequential_kernel.cu\n",
        "\n",
        "#include <stdio.h>\n",
        "#include <stdlib.h>\n",
        "#include <time.h>\n",
        "\n",
        "//Method to read input files 1,2,4\n",
        "int read_input_one_two_four(int **input1, char* filepath){\n",
        " FILE* fp = fopen(filepath, \"r\");\n",
        "    if (fp == NULL){\n",
        "     fprintf(stderr, \"Couldn't open file for reading\\n\");\n",
        "     exit(1);\n",
        "    } \n",
        "    \n",
        "    int counter = 0;\n",
        "    int len;\n",
        "    int length = fscanf(fp, \"%d\", &len);\n",
        "    *input1 = ( int *)malloc(len * sizeof(int));\n",
        "\n",
        "    int temp1;\n",
        "\n",
        "    while (fscanf(fp, \"%d\", &temp1) == 1) {\n",
        "        (*input1)[counter] = temp1;\n",
        "\n",
        "        counter++;\n",
        "    }\n",
        "\n",
        "    fclose(fp);\n",
        "    return len;\n",
        "}\n",
        "\n",
        "//Method to read input file 3\n",
        "int read_input_three(int** input1, int** input2, int** input3, int** input4,char* filepath){\n",
        "    FILE* fp = fopen(filepath, \"r\");\n",
        "    if (fp == NULL){\n",
        "     fprintf(stderr, \"Couldn't open file for reading\\n\");\n",
        "     exit(1);\n",
        "    } \n",
        "    \n",
        "    int counter = 0;\n",
        "    int len;\n",
        "    int length = fscanf(fp, \"%d\", &len);\n",
        "    *input1 = ( int *)malloc(len * sizeof(int));\n",
        "    *input2 = ( int *)malloc(len * sizeof(int));\n",
        "    *input3 = ( int *)malloc(len * sizeof(int));\n",
        "    *input4 = ( int *)malloc(len * sizeof(int));\n",
        "\n",
        "\n",
        "\n",
        "    int temp1;\n",
        "    int temp2;\n",
        "    int temp3;\n",
        "    int temp4;\n",
        "    while (fscanf(fp, \"%d,%d,%d,%d\", &temp1, &temp2, &temp3, &temp4) == 4) {\n",
        "        (*input1)[counter] = temp1;\n",
        "        (*input2)[counter] = temp2;\n",
        "        (*input3)[counter] = temp3;\n",
        "        (*input4)[counter] = temp4;\n",
        "        counter++;\n",
        "    }\n",
        "\n",
        "    fclose(fp);\n",
        "    return len;  \n",
        "}\n",
        "\n",
        "//Method to evaluate the inputs to the gate. The input consists of an input and the output of a previous node, and the gate type\n",
        "/*\n",
        "*gateType = 0 is AND, 1 is OR, 2 is NAND, 3 is NOR, 4 is XOR, and 5 is XNOR\n",
        "*/\n",
        "int gateEval(int gateType, int prevNodeOutput, int nodeInput){\n",
        "    //AND Gate\n",
        "    if(gateType == 0){\n",
        "        if(nodeInput == 1 && prevNodeOutput == 1)return 1;\n",
        "        return 0;\n",
        "    }\n",
        "\n",
        "    //OR Gate\n",
        "    else if(gateType == 1){\n",
        "        if(nodeInput == 1 || prevNodeOutput == 1)return 1;\n",
        "        return 0;\n",
        "    }\n",
        "\n",
        "    //NAND Gate\n",
        "    else if(gateType == 2){\n",
        "        if(nodeInput == 1 && prevNodeOutput == 1)return 0;\n",
        "        return 1;\n",
        "    }\n",
        "\n",
        "    //NOR Gate\n",
        "    else if(gateType == 3){\n",
        "        if(nodeInput == 0 && prevNodeOutput == 0)return 1;\n",
        "        return 0;\n",
        "    }\n",
        "\n",
        "    //XOR Gate\n",
        "    else if(gateType == 4){\n",
        "        if(nodeInput == prevNodeOutput)return 0;\n",
        "        return 1;\n",
        "    }\n",
        "\n",
        "    //XNOR Gate\n",
        "    else if(gateType == 5){\n",
        "        if(nodeInput == prevNodeOutput)return 1;\n",
        "        return 0;\n",
        "    }\n",
        "    else{\n",
        "        return -1;\n",
        "    }\n",
        "   \n",
        "}\n",
        "\n",
        "int main(int argc, char *argv[]) {\n",
        "  if(argc != 7){\n",
        "      printf(\"ERROR: Input format was incorrect.\\n\");\n",
        "  }  \n",
        "\n",
        "\n",
        "\n",
        "  // Variables\n",
        "  int numNodePtrs;\n",
        "  int numNodes;\n",
        "  int *nodePtrs_h;\n",
        "  int *nodeNeighbors_h;\n",
        "  int *nodeVisited_h;\n",
        "  int numTotalNeighbors_h;\n",
        "  int *currLevelNodes_h;\n",
        "  int numCurrLevelNodes;\n",
        "  int numNextLevelNodes_h = 0;\n",
        "  int *nodeGate_h;\n",
        "  int *nodeInput_h;\n",
        "  int *nodeOutput_h;\n",
        "\n",
        "\n",
        "  numNodePtrs = read_input_one_two_four(&nodePtrs_h, argv[1]);\n",
        "  numTotalNeighbors_h = read_input_one_two_four(&nodeNeighbors_h, argv[2]);\n",
        "  numNodes = read_input_three(&nodeVisited_h, &nodeGate_h, &nodeInput_h, &nodeOutput_h, argv[3]);\n",
        "  numCurrLevelNodes = read_input_one_two_four(&currLevelNodes_h, argv[4]);\n",
        "\n",
        "  //output\n",
        "  int *nextLevelNodes_h = (int*)malloc(numNodes * sizeof(int));\n",
        "\n",
        "  //Begin timer -- we will only time the execution time of the main logic\n",
        "  clock_t begin = clock();\n",
        "\n",
        "  //Loop over all nodes at the current level\n",
        "  for(int i = 0; i < numCurrLevelNodes; i++){\n",
        "      int node = currLevelNodes_h[i];\n",
        "\n",
        "      //Loop over all neighbors of the node\n",
        "      for(int j = nodePtrs_h[node]; j < nodePtrs_h[node+1]; j++){\n",
        "          int neighbor = nodeNeighbors_h[j];\n",
        "\n",
        "          if(nodeVisited_h[neighbor] == 0){\n",
        "              nodeVisited_h[neighbor] = 1;\n",
        "              nodeOutput_h[neighbor] = gateEval(nodeGate_h[neighbor], nodeOutput_h[node], nodeInput_h[neighbor]);\n",
        "              nextLevelNodes_h[numNextLevelNodes_h] = neighbor;\n",
        "              numNextLevelNodes_h++;\n",
        "          }\n",
        "      }\n",
        "  }\n",
        "\n",
        "  //End timer\n",
        "  clock_t end = clock();\n",
        "  double time_spent = (double)(end - begin)/CLOCKS_PER_SEC;\n",
        "\n",
        "  printf(\"Time Spent: %f seconds.\\n\", time_spent);\n",
        "\n",
        "  //Finished evaluation, write the output\n",
        "  //One output file contains the length of nodeOutput and all its elements\n",
        "  //Second output file contains the length of numNextLevelNodes and all of its elements\n",
        "\n",
        "  FILE *nodeOutputFile = fopen(argv[5], \"w\");\n",
        "  FILE *nextLevelNodesOutputFile = fopen(argv[6], \"w\");\n",
        "\n",
        "  if(!nodeOutputFile || !nextLevelNodesOutputFile){\n",
        "      printf(\"ERROR: Could not open one of the output files.\");\n",
        "      return -1;\n",
        "  }\n",
        "\n",
        "  //Do the nodeOutputFile first\n",
        "  fprintf(nodeOutputFile, \"%d\\n\", numNodes);\n",
        "  for(int i = 0; i < numNodes; i++){\n",
        "      fprintf(nodeOutputFile, \"%d\\n\", nodeOutput_h[i]);\n",
        "  }\n",
        "\n",
        "  //Do the nextLevelNodes output file next\n",
        "  fprintf(nextLevelNodesOutputFile, \"%d\\n\", numNextLevelNodes_h);\n",
        "  for(int i = 0; i < numNextLevelNodes_h; i++){\n",
        "      fprintf(nextLevelNodesOutputFile, \"%d\\n\", nextLevelNodes_h[i]);\n",
        "  }\n",
        "\n",
        "  fclose(nodeOutputFile);\n",
        "  fclose(nextLevelNodesOutputFile);\n",
        "\n",
        "  return 0;\n",
        "}\n"
      ],
      "execution_count": null,
      "outputs": [
        {
          "output_type": "stream",
          "text": [
            "Overwriting sequential_kernel.cu\n"
          ],
          "name": "stdout"
        }
      ]
    },
    {
      "cell_type": "code",
      "metadata": {
        "id": "LQrqTCmXs7FO",
        "colab": {
          "base_uri": "https://localhost:8080/"
        },
        "outputId": "1e957d91-ec2b-49b1-b146-ffc2084c5bc1"
      },
      "source": [
        "!nvcc sequential_kernel.cu -o sequential"
      ],
      "execution_count": null,
      "outputs": [
        {
          "output_type": "stream",
          "text": [
            "sequential_kernel.cu(119): warning: variable \"numNodePtrs\" was set but never used\n",
            "\n",
            "sequential_kernel.cu(124): warning: variable \"numTotalNeighbors_h\" was set but never used\n",
            "\n"
          ],
          "name": "stdout"
        }
      ]
    },
    {
      "cell_type": "code",
      "metadata": {
        "id": "IfWiCl8e2p0W",
        "colab": {
          "base_uri": "https://localhost:8080/"
        },
        "outputId": "ad56c2a2-73f6-408b-8eb7-cbae468b2486"
      },
      "source": [
        "!./sequential input1.raw input2.raw input3.raw input4.raw nodeOutputFile.raw nextLevelNodesFile.raw"
      ],
      "execution_count": null,
      "outputs": [
        {
          "output_type": "stream",
          "text": [
            "Time Spent: 0.002425 seconds.\n"
          ],
          "name": "stdout"
        }
      ]
    },
    {
      "cell_type": "markdown",
      "metadata": {
        "id": "yT45MgvJLJcV"
      },
      "source": [
        "#Lab3-Part2: Global Queuing"
      ]
    },
    {
      "cell_type": "code",
      "metadata": {
        "id": "eECj51UmLT1o",
        "colab": {
          "base_uri": "https://localhost:8080/"
        },
        "outputId": "ff57f7eb-b66b-49d1-ffbc-741d06404af3"
      },
      "source": [
        "%%writefile parallel_kernel.cu\n",
        "\n",
        "#include <stdio.h>\n",
        "#include <stdlib.h>\n",
        "#include <time.h>\n",
        "#include \"cuda_runtime.h\"\n",
        "#include \"device_launch_parameters.h\"\n",
        "\n",
        "//Method to evaluate the inputs to the gate. The input consists of an input and the output of a previous node, and the gate type\n",
        "/*\n",
        "*gateType = 0 is AND, 1 is OR, 2 is NAND, 3 is NOR, 4 is XOR, and 5 is XNOR\n",
        "*/\n",
        "__device__ int gateEval(int gateType, int prevNodeOutput, int nodeInput){\n",
        "    //AND Gate\n",
        "    if(gateType == 0){\n",
        "        if(nodeInput == 1 && prevNodeOutput == 1)return 1;\n",
        "        return 0;\n",
        "    }\n",
        "    //OR Gate\n",
        "    else if(gateType == 1){\n",
        "        if(nodeInput == 1 || prevNodeOutput == 1)return 1;\n",
        "        return 0;\n",
        "    }\n",
        "    //NAND Gate\n",
        "    else if(gateType == 2){\n",
        "        if(nodeInput == 1 && prevNodeOutput == 1)return 0;\n",
        "        return 1;\n",
        "    }\n",
        "    //NOR Gate\n",
        "    else if(gateType == 3){\n",
        "        if(nodeInput == 0 && prevNodeOutput == 0)return 1;\n",
        "        return 0;\n",
        "    }\n",
        "    //XOR Gate\n",
        "    else if(gateType == 4){\n",
        "        if(nodeInput == prevNodeOutput)return 0;\n",
        "        return 1;\n",
        "    }\n",
        "    //XNOR Gate\n",
        "    else if(gateType == 5){\n",
        "        if(nodeInput == prevNodeOutput)return 1;\n",
        "        return 0;\n",
        "    }\n",
        "    else{\n",
        "        return -1;\n",
        "    } \n",
        "}\n",
        "\n",
        "//Parallel Code\n",
        "__global__ void global_queuing_kernel(int* nextLevelNodes_gpu, int* nodeVisited_gpu, int* nodeOutput_gpu, int* numNextLevelNodes_gpu, int* nodeInput_h, int numCurrLevelNodes, int* currLevelNodes_h, int* nodePtrs_h, int* nodeNeighbors_h, int* nodeGate_h, int numBlocks, int numThreads){\n",
        "    int index = threadIdx.x + blockIdx.x * blockDim.x;\n",
        "    while(index < numCurrLevelNodes){\n",
        "        int node = currLevelNodes_h[index];\n",
        "\n",
        "        //Loop over neighbors of the node\n",
        "        for(int i = nodePtrs_h[node]; i < nodePtrs_h[node+1]; i++){\n",
        "            int neighbor = nodeNeighbors_h[i];\n",
        "\n",
        "            //Perform an atomic compare-and-swap. If the value at nodeVisited is 0 we replace it by 1 and return 0\n",
        "            //If the value at nodeVisited is 1, we do NOT swap, and return 1\n",
        "            if(atomicCAS(&nodeVisited_gpu[neighbor],0,1) == 0){\n",
        "                //Calculate the gate output\n",
        "                nodeOutput_gpu[neighbor] = gateEval(nodeGate_h[neighbor], nodeOutput_gpu[node], nodeInput_h[neighbor]);\n",
        "                \n",
        "                //This line is important because the value of numNextLevelNodes_gpu is shared by all blocks/threads\n",
        "                //So we perform an atomic exchange to assign the value and increment the count atomically\n",
        "                atomicExch(&nextLevelNodes_gpu[atomicAdd(&numNextLevelNodes_gpu[0], 1)], neighbor);\n",
        "            }\n",
        "        }\n",
        "        //Index increases by the total number of threads\n",
        "        index += (numBlocks*numThreads);\n",
        "    }\n",
        "}\n",
        "\n",
        "\n",
        "//Method to read input files 1,2,4\n",
        "int read_input_one_two_four(int **input1, char* filepath){\n",
        " FILE* fp = fopen(filepath, \"r\");\n",
        "    if (fp == NULL){\n",
        "     fprintf(stderr, \"Couldn't open file for reading\\n\");\n",
        "     exit(1);\n",
        "    } \n",
        "    \n",
        "    int counter = 0;\n",
        "    int len;\n",
        "    int length = fscanf(fp, \"%d\", &len);\n",
        "    *input1 = ( int *)malloc(len * sizeof(int));\n",
        "\n",
        "    int temp1;\n",
        "\n",
        "    while (fscanf(fp, \"%d\", &temp1) == 1) {\n",
        "        (*input1)[counter] = temp1;\n",
        "\n",
        "        counter++;\n",
        "    }\n",
        "\n",
        "    fclose(fp);\n",
        "    return len;\n",
        "}\n",
        "\n",
        "//Method to read input file 3\n",
        "int read_input_three(int** input1, int** input2, int** input3, int** input4,char* filepath){\n",
        "    FILE* fp = fopen(filepath, \"r\");\n",
        "    if (fp == NULL){\n",
        "     fprintf(stderr, \"Couldn't open file for reading\\n\");\n",
        "     exit(1);\n",
        "    } \n",
        "    \n",
        "    int counter = 0;\n",
        "    int len;\n",
        "    int length = fscanf(fp, \"%d\", &len);\n",
        "    *input1 = ( int *)malloc(len * sizeof(int));\n",
        "    *input2 = ( int *)malloc(len * sizeof(int));\n",
        "    *input3 = ( int *)malloc(len * sizeof(int));\n",
        "    *input4 = ( int *)malloc(len * sizeof(int));\n",
        "\n",
        "\n",
        "\n",
        "    int temp1;\n",
        "    int temp2;\n",
        "    int temp3;\n",
        "    int temp4;\n",
        "    while (fscanf(fp, \"%d,%d,%d,%d\", &temp1, &temp2, &temp3, &temp4) == 4) {\n",
        "        (*input1)[counter] = temp1;\n",
        "        (*input2)[counter] = temp2;\n",
        "        (*input3)[counter] = temp3;\n",
        "        (*input4)[counter] = temp4;\n",
        "        counter++;\n",
        "    }\n",
        "\n",
        "    fclose(fp);\n",
        "    return len;  \n",
        "}\n",
        "\n",
        "int main(int argc, char *argv[]) {\n",
        "  if(argc != 7){\n",
        "      printf(\"ERROR: Input format was incorrect.\\n\");\n",
        "  }  \n",
        "\n",
        "  // Variables\n",
        "  int numNodePtrs;\n",
        "  int numNodes;\n",
        "  int *nodePtrs_h;\n",
        "  int *nodeNeighbors_h;\n",
        "  int *nodeVisited_h;\n",
        "  int numTotalNeighbors_h;\n",
        "  int *currLevelNodes_h;\n",
        "  int numCurrLevelNodes;\n",
        "  int *nodeGate_h;\n",
        "  int *nodeInput_h;\n",
        "  int *nodeOutput_h;\n",
        "\n",
        "\n",
        "  numNodePtrs = read_input_one_two_four(&nodePtrs_h, argv[1]);\n",
        "  numTotalNeighbors_h = read_input_one_two_four(&nodeNeighbors_h, argv[2]);\n",
        "  numNodes = read_input_three(&nodeVisited_h, &nodeGate_h, &nodeInput_h, &nodeOutput_h, argv[3]);\n",
        "  numCurrLevelNodes = read_input_one_two_four(&currLevelNodes_h, argv[4]);\n",
        "\n",
        "  //output and gpu variables\n",
        "  int *nextLevelNodes_gpu;\n",
        "  int *nodeVisited_gpu;\n",
        "  int *nodeOutput_gpu;\n",
        "  int *numNextLevelNodes_gpu;\n",
        "  int *nodeInput_gpu;\n",
        "  int *currLevelNodes_gpu;\n",
        "  int *nodePtrs_gpu;\n",
        "  int *nodeNeighbors_gpu;\n",
        "  int *nodeGate_gpu;\n",
        "\n",
        "  //Alocate gpu memory here\n",
        "  cudaMallocManaged((void**)&nextLevelNodes_gpu, (numNodes * sizeof(int)));\n",
        "  cudaMallocManaged((void**)&nodeVisited_gpu, (numNodes * sizeof(int)));\n",
        "  cudaMallocManaged((void**)&nodeOutput_gpu, (numNodes * sizeof(int)));\n",
        "  cudaMallocManaged((void**)&numNextLevelNodes_gpu, sizeof(int));\n",
        "  cudaMallocManaged((void**)&nodeInput_gpu, (numNodes * sizeof(int)));\n",
        "  cudaMallocManaged((void**)&currLevelNodes_gpu, (numCurrLevelNodes * sizeof(int)));\n",
        "  cudaMallocManaged((void**)&nodePtrs_gpu, (numNodePtrs * sizeof(int)));\n",
        "  cudaMallocManaged((void**)&nodeNeighbors_gpu, (numTotalNeighbors_h * sizeof(int)));\n",
        "  cudaMallocManaged((void**)&nodeGate_gpu, (numNodes * sizeof(int)));\n",
        "\n",
        "  //Populate the gpu mem where necessary\n",
        "  numNextLevelNodes_gpu[0] = 0;\n",
        "\n",
        "  for(int i = 0; i < numNodes; i++){\n",
        "      nodeVisited_gpu[i] = nodeVisited_h[i];\n",
        "      nodeOutput_gpu[i] = nodeOutput_h[i];\n",
        "      nodeInput_gpu[i] = nodeInput_h[i];\n",
        "      nodeGate_gpu[i] = nodeGate_h[i];\n",
        "  }\n",
        "\n",
        "  for(int i = 0; i < numCurrLevelNodes; i++){\n",
        "      currLevelNodes_gpu[i] = currLevelNodes_h[i];\n",
        "  }\n",
        "\n",
        "  for(int i = 0; i < numTotalNeighbors_h; i++){\n",
        "      nodeNeighbors_gpu[i] = nodeNeighbors_h[i];\n",
        "  }\n",
        "\n",
        "  for(int i = 0; i < numNodePtrs; i++){\n",
        "      nodePtrs_gpu[i] = nodePtrs_h[i];\n",
        "  }\n",
        "\n",
        "  //Kernel Call\n",
        "  int numBlocks = 10;\n",
        "  int numThreads = 32;\n",
        "\n",
        "  //Start timer here\n",
        "  clock_t begin = clock();\n",
        "  \n",
        "  global_queuing_kernel<<<numBlocks, numThreads>>>(nextLevelNodes_gpu, nodeVisited_gpu, nodeOutput_gpu, numNextLevelNodes_gpu, nodeInput_gpu, numCurrLevelNodes, currLevelNodes_gpu, nodePtrs_gpu, nodeNeighbors_gpu, nodeGate_gpu, numBlocks, numThreads);\n",
        "  cudaDeviceSynchronize();\n",
        "\n",
        "  //Finish clock here\n",
        "  clock_t end = clock();\n",
        "  double time_spent = (double)(end - begin)/CLOCKS_PER_SEC;\n",
        "\n",
        "  printf(\"Time Spent: %f seconds. Number of Threads: %d. Number of Blocks: %d.\\n\", time_spent, numThreads, numBlocks);\n",
        "\n",
        "  //Finished evaluation, write the output\n",
        "  //One output file contains the length of nodeOutput and all its elements\n",
        "  //Second output file contains the length of numNextLevelNodes and all of its elements\n",
        "\n",
        "  FILE *nodeOutputFile = fopen(argv[5], \"w\");\n",
        "  FILE *nextLevelNodesOutputFile = fopen(argv[6], \"w\");\n",
        "\n",
        "  if(!nodeOutputFile || !nextLevelNodesOutputFile){\n",
        "      printf(\"ERROR: Could not open one of the output files.\");\n",
        "      return -1;\n",
        "  }\n",
        "\n",
        "  //Do the nodeOutputFile first\n",
        "  fprintf(nodeOutputFile, \"%d\\n\", numNodes);\n",
        "  for(int i = 0; i < numNodes; i++){\n",
        "      fprintf(nodeOutputFile, \"%d\\n\", nodeOutput_gpu[i]);\n",
        "  }\n",
        "\n",
        "  //Do the nextLevelNodes output file next\n",
        "  fprintf(nextLevelNodesOutputFile, \"%d\\n\", numNextLevelNodes_gpu[0]);\n",
        "  for(int i = 0; i < numNextLevelNodes_gpu[0]; i++){\n",
        "      fprintf(nextLevelNodesOutputFile, \"%d\\n\", nextLevelNodes_gpu[i]);\n",
        "  }\n",
        "\n",
        "  //Close files\n",
        "  fclose(nodeOutputFile);\n",
        "  fclose(nextLevelNodesOutputFile);\n",
        "\n",
        "  //free all memory\n",
        "  cudaFree(nextLevelNodes_gpu);\n",
        "  cudaFree(nodeVisited_gpu);\n",
        "  cudaFree(nodeOutput_gpu);\n",
        "  cudaFree(numNextLevelNodes_gpu);\n",
        "\n",
        "  return 0;\n",
        "}\n"
      ],
      "execution_count": null,
      "outputs": [
        {
          "output_type": "stream",
          "text": [
            "Overwriting parallel_kernel.cu\n"
          ],
          "name": "stdout"
        }
      ]
    },
    {
      "cell_type": "code",
      "metadata": {
        "id": "WElmINDqYj6N",
        "colab": {
          "base_uri": "https://localhost:8080/"
        },
        "outputId": "f9293996-a603-41eb-f0ba-fc72d3c4cd3d"
      },
      "source": [
        "!nvcc parallel_kernel.cu -o global_queuing\n",
        "!./global_queuing input1.raw input2.raw input3.raw input4.raw nodeOutputFile.raw nextLevelNodesFile.raw"
      ],
      "execution_count": null,
      "outputs": [
        {
          "output_type": "stream",
          "text": [
            "Time Spent: 0.002026 seconds. Number of Threads: 32. Number of Blocks: 10.\n"
          ],
          "name": "stdout"
        }
      ]
    },
    {
      "cell_type": "markdown",
      "metadata": {
        "id": "8tG-N-3A46FB"
      },
      "source": [
        "#Tester Code"
      ]
    },
    {
      "cell_type": "markdown",
      "metadata": {
        "id": "orSzU_3m5Gud"
      },
      "source": [
        "##Compare Next Level Nodes"
      ]
    },
    {
      "cell_type": "code",
      "metadata": {
        "id": "qsqk5ErH49gE",
        "colab": {
          "base_uri": "https://localhost:8080/"
        },
        "outputId": "d173b546-fe10-422c-b542-846e757306fc"
      },
      "source": [
        "%%writefile compareNextLevelNodes.cu\n",
        "\n",
        "\n",
        "#include <stdio.h>\n",
        "#include <stdlib.h>\n",
        "void sort(int *pointer, int size){\n",
        "  //get from https://stackoverflow.com/questions/13012594/sorting-with-pointers-instead-of-indexes\n",
        "    int *i, *j, temp;\n",
        "    for(i = pointer; i < pointer + size; i++){\n",
        "        for(j = i + 1; j < pointer + size; j++){\n",
        "            if(*j < *i){\n",
        "                temp = *j;\n",
        "                *j = *i;\n",
        "                *i = temp;\n",
        "            }\n",
        "        }\n",
        "    }\n",
        "}\n",
        "\n",
        "void compareNextLevelNodeFiles(char *file_name1, char *file_name2) \n",
        "{ \n",
        "\n",
        "  \n",
        "    FILE* fp_1 = fopen(file_name1, \"r\");\n",
        "    if (fp_1 == NULL){\n",
        "     fprintf(stderr, \"Couldn't open file for reading\\n\");\n",
        "     exit(1);\n",
        "    } \n",
        "\n",
        "    FILE* fp_2 = fopen(file_name2, \"r\");\n",
        "    if (fp_2 == NULL){\n",
        "     fprintf(stderr, \"Couldn't open file for reading\\n\");\n",
        "     exit(1);\n",
        "    } \n",
        "    \n",
        "    int counter = 0;\n",
        "    int len_1;\n",
        "    int len_2;\n",
        "    int length_file_1 = fscanf(fp_1, \"%d\", &len_1);\n",
        "    int length_file_2 = fscanf(fp_2, \"%d\", &len_2);\n",
        "    printf(\"%d, %d\\n\", len_1, len_2);\n",
        "    if(length_file_1 != length_file_2){\n",
        "      fprintf(stderr, \"Wrong file length\\n\");\n",
        "      exit(1);\n",
        "    }\n",
        "    int *input1 = (int *)malloc(len_1 * sizeof(int));\n",
        "    int *input2 = (int *)malloc(len_2 * sizeof(int));\n",
        "\n",
        "\n",
        "\n",
        "\n",
        "    int temp1;\n",
        "    int temp2;\n",
        "\n",
        "    while ((fscanf(fp_1, \"%d\", &temp1) == 1) && (fscanf(fp_2, \"%d\", &temp2) == 1)) {\n",
        "        (input1)[counter] = temp1;\n",
        "        (input2)[counter] = temp2;\n",
        "        counter++;\n",
        "    }\n",
        "\n",
        "    sort(input1, len_1);\n",
        "    sort(input2, len_2);\n",
        "\n",
        "    for(int i=0; i< len_1; i++){\n",
        "      if(input1[i] != input2[i]){\n",
        "        fprintf(stderr, \"Something goes wrong\\n\");\n",
        "        exit(1);\n",
        "      }\n",
        "    }\n",
        "\n",
        "    fprintf(stderr, \"No errors!\\n\");\n",
        "        exit(1);\n",
        "\n",
        "} \n",
        "\n",
        "int main(int argc, char *argv[]){\n",
        "\n",
        "    if( argc < 3) {\n",
        "      printf(\"Require two files\\n\");\n",
        "      exit(1);\n",
        "      \n",
        "   }\n",
        "compareNextLevelNodeFiles(argv[1], argv[2]);\n",
        "}\n"
      ],
      "execution_count": null,
      "outputs": [
        {
          "output_type": "stream",
          "text": [
            "Writing compareNextLevelNodes.cu\n"
          ],
          "name": "stdout"
        }
      ]
    },
    {
      "cell_type": "markdown",
      "metadata": {
        "id": "mqvHdxfY5MQ3"
      },
      "source": [
        "##Compare Node Output"
      ]
    },
    {
      "cell_type": "code",
      "metadata": {
        "id": "DRuEdAcZ5Pw2",
        "colab": {
          "base_uri": "https://localhost:8080/"
        },
        "outputId": "891dab8d-6463-4291-8a85-44f1068e9cb2"
      },
      "source": [
        "%%writefile compareNodeOutput.cu\n",
        "\n",
        "#include <stdio.h>\n",
        "#include <stdlib.h>\n",
        "\n",
        "\n",
        "void compareFiles(char *file_name1, char *file_name2) \n",
        "{ \n",
        "//get from https://www.tutorialspoint.com/c-program-to-compare-two-files-and-report-mismatches\n",
        "FILE* fp1 = fopen(file_name1, \"r\");\n",
        "FILE* fp2 = fopen(file_name2, \"r\");\n",
        "    // fetching character of two file \n",
        "    // in two variable ch1 and ch2 \n",
        "    char ch1 = getc(fp1); \n",
        "    char ch2 = getc(fp2); \n",
        "  \n",
        "    // error keeps track of number of errors \n",
        "    // pos keeps track of position of errors \n",
        "    // line keeps track of error line \n",
        "    int error = 0, pos = 0, line = 1; \n",
        "  \n",
        "    // iterate loop till end of file \n",
        "    while (ch1 != EOF && ch2 != EOF) \n",
        "    { \n",
        "        pos++; \n",
        "  \n",
        "        // if both variable encounters new \n",
        "        // line then line variable is incremented \n",
        "        // and pos variable is set to 0 \n",
        "        if (ch1 == '\\n' && ch2 == '\\n') \n",
        "        { \n",
        "            line++; \n",
        "            pos = 0; \n",
        "        } \n",
        "  \n",
        "        // if fetched data is not equal then \n",
        "        // error is incremented \n",
        "        if (ch1 != ch2) \n",
        "        { \n",
        "            error++; \n",
        "            printf(\"Line Number : %d \\tError\"\n",
        "               \" Position : %d \\n\", line, pos); \n",
        "        } \n",
        "  \n",
        "        // fetching character until end of file \n",
        "        ch1 = getc(fp1); \n",
        "        ch2 = getc(fp2); \n",
        "    } \n",
        "  \n",
        "    printf(\"Total Errors : %d\\t\", error); \n",
        "} \n",
        "\n",
        "int main(int argc, char *argv[]){\n",
        "\n",
        "    if( argc < 3) {\n",
        "      printf(\"Require two files\\n\");\n",
        "      exit(1);\n",
        "      \n",
        "   }\n",
        "compareFiles(argv[1], argv[2]);\n",
        "}\n"
      ],
      "execution_count": null,
      "outputs": [
        {
          "output_type": "stream",
          "text": [
            "Writing compareNodeOutput.cu\n"
          ],
          "name": "stdout"
        }
      ]
    },
    {
      "cell_type": "markdown",
      "metadata": {
        "id": "DRuk-mW15W0g"
      },
      "source": [
        "##Evaluate"
      ]
    },
    {
      "cell_type": "code",
      "metadata": {
        "id": "MGawbTkV5TwS"
      },
      "source": [
        "!nvcc compareNextLevelNodes.cu -o compareNextLevelNodes\n",
        "!nvcc compareNodeOutput.cu -o compareNodeOutput"
      ],
      "execution_count": null,
      "outputs": []
    },
    {
      "cell_type": "code",
      "metadata": {
        "id": "HGv28zjN54Sw",
        "colab": {
          "base_uri": "https://localhost:8080/"
        },
        "outputId": "7132f0d0-f165-45f0-e877-fe760326fbc2"
      },
      "source": [
        "!./compareNextLevelNodes sol_nextLevelNodes.raw nextLevelNodesFile.raw"
      ],
      "execution_count": null,
      "outputs": [
        {
          "output_type": "stream",
          "text": [
            "40101, 40101\n",
            "No errors!\n"
          ],
          "name": "stdout"
        }
      ]
    },
    {
      "cell_type": "code",
      "metadata": {
        "id": "CFHrL5Dt6Umj",
        "colab": {
          "base_uri": "https://localhost:8080/"
        },
        "outputId": "6a7b2c30-6d13-4c77-ddf9-d07b68449938"
      },
      "source": [
        "!./compareNodeOutput sol_nodeOutput.raw nodeOutputFile.raw"
      ],
      "execution_count": null,
      "outputs": [
        {
          "output_type": "stream",
          "text": [
            "Total Errors : 0\t"
          ],
          "name": "stdout"
        }
      ]
    }
  ]
}